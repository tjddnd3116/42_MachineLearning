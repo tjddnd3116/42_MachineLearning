{
 "cells": [
  {
   "cell_type": "code",
   "execution_count": 1,
   "id": "53a679c2",
   "metadata": {},
   "outputs": [
    {
     "ename": "ModuleNotFoundError",
     "evalue": "No module named 'matplotlib'",
     "output_type": "error",
     "traceback": [
      "\u001b[0;31m---------------------------------------------------------------------------\u001b[0m",
      "\u001b[0;31mModuleNotFoundError\u001b[0m                       Traceback (most recent call last)",
      "\u001b[0;32m/tmp/ipykernel_161286/3723053844.py\u001b[0m in \u001b[0;36m<module>\u001b[0;34m\u001b[0m\n\u001b[0;32m----> 1\u001b[0;31m \u001b[0;32mimport\u001b[0m \u001b[0mmatplotlib\u001b[0m\u001b[0;34m.\u001b[0m\u001b[0mpyplot\u001b[0m \u001b[0;32mas\u001b[0m \u001b[0mplt\u001b[0m\u001b[0;34m\u001b[0m\u001b[0;34m\u001b[0m\u001b[0m\n\u001b[0m\u001b[1;32m      2\u001b[0m bream_length = [25.4, 26.3, 26.5, 29.0, 29.0, 29.7, 29.7, 30.0, 30.0, 30.7,\n\u001b[1;32m      3\u001b[0m                 \u001b[0;36m31.0\u001b[0m\u001b[0;34m,\u001b[0m \u001b[0;36m31.0\u001b[0m\u001b[0;34m,\u001b[0m \u001b[0;36m31.5\u001b[0m\u001b[0;34m,\u001b[0m \u001b[0;36m32.0\u001b[0m\u001b[0;34m,\u001b[0m \u001b[0;36m32.0\u001b[0m\u001b[0;34m,\u001b[0m \u001b[0;36m32.0\u001b[0m\u001b[0;34m,\u001b[0m \u001b[0;36m33.0\u001b[0m\u001b[0;34m,\u001b[0m \u001b[0;36m33.0\u001b[0m\u001b[0;34m,\u001b[0m \u001b[0;36m33.5\u001b[0m\u001b[0;34m,\u001b[0m \u001b[0;36m33.5\u001b[0m\u001b[0;34m,\u001b[0m\u001b[0;34m\u001b[0m\u001b[0;34m\u001b[0m\u001b[0m\n\u001b[1;32m      4\u001b[0m                 \u001b[0;36m34.0\u001b[0m\u001b[0;34m,\u001b[0m \u001b[0;36m34.0\u001b[0m\u001b[0;34m,\u001b[0m \u001b[0;36m34.5\u001b[0m\u001b[0;34m,\u001b[0m \u001b[0;36m35.0\u001b[0m\u001b[0;34m,\u001b[0m \u001b[0;36m35.0\u001b[0m\u001b[0;34m,\u001b[0m \u001b[0;36m35.0\u001b[0m\u001b[0;34m,\u001b[0m \u001b[0;36m35.0\u001b[0m\u001b[0;34m,\u001b[0m \u001b[0;36m36.0\u001b[0m\u001b[0;34m,\u001b[0m \u001b[0;36m36.0\u001b[0m\u001b[0;34m,\u001b[0m \u001b[0;36m37.0\u001b[0m\u001b[0;34m,\u001b[0m\u001b[0;34m\u001b[0m\u001b[0;34m\u001b[0m\u001b[0m\n\u001b[1;32m      5\u001b[0m                 38.5, 38.5, 39.5, 41.0, 41.0]\n",
      "\u001b[0;31mModuleNotFoundError\u001b[0m: No module named 'matplotlib'"
     ]
    }
   ],
   "source": [
    "import matplotlib.pyplot as plt\n",
    "bream_length = [25.4, 26.3, 26.5, 29.0, 29.0, 29.7, 29.7, 30.0, 30.0, 30.7,\n",
    "                31.0, 31.0, 31.5, 32.0, 32.0, 32.0, 33.0, 33.0, 33.5, 33.5,\n",
    "                34.0, 34.0, 34.5, 35.0, 35.0, 35.0, 35.0, 36.0, 36.0, 37.0, \n",
    "                38.5, 38.5, 39.5, 41.0, 41.0]\n",
    "bream_weight = [242.0, 290.0, 340.0, 363.0, 430.0, 450.0, 500.0, 390.0, 450.0, 500.0, \n",
    "                475.0, 500.0, 500.0, 340.0, 600.0, 600.0, 700.0, 700.0, 610.0, 650.0, \n",
    "                575.0, 685.0, 620.0, 680.0, 700.0, 725.0, 720.0, 714.0, 850.0, 1000.0, \n",
    "                920.0, 955.0, 925.0, 975.0, 950.0]\n",
    "smelt_length = [9.8, 10.5, 10.6, 11.0, 11.2, 11.3, 11.8, 11.8, 12.0, 12.2, 12.4, 13.0, 14.3, 15.0]\n",
    "smelt_weight = [6.7, 7.5, 7.0, 9.7, 9.8, 8.7, 10.0, 9.9, 9.8, 12.2, 13.4, 12.2, 19.7, 19.9]\n",
    "\n",
    "plt.scatter(bream_length, bream_weight)\n",
    "plt.scatter(smelt_length, smelt_weight)\n",
    "plt.xlabel('length')\n",
    "plt.ylabel('weight')\n",
    "plt.show()\n",
    "\n",
    "length = bream_length+smelt_length\n",
    "weight = bream_weight+smelt_weight\n",
    "fish_data = [[l, w] for l, w in zip(length, weight)]\n",
    "\n",
    "print(fish_data)\n",
    "\n",
    "fish_target = [1]*35 + [0]*14\n",
    "print(fish_target)\n",
    "\n",
    "from sklearn.neighbors import KNeighborsClassifier\n",
    "\n",
    "kn = KNeighborsClassifier()\n",
    "kn.fit(fish_data, fish_target)\n",
    "kn.score(fish_data, fish_target)\n",
    "\n",
    "plt.scatter(bream_length, bream_weight)\n",
    "plt.scatter(smelt_length, smelt_weight)\n",
    "plt.scatter(30, 600, marker='^')\n",
    "plt.xlabel('length')\n",
    "plt.ylabel('weight')\n",
    "plt.show()\n",
    "\n",
    "kn.predict([[30, 600]])\n",
    "\n",
    "kn49 = KNeighborsClassifier(n_neighbors=49)\n",
    "kn49.fit(fish_data, fish_target)\n",
    "kn49.score(fish_data, fish_target)"
   ]
  },
  {
   "cell_type": "code",
   "execution_count": null,
   "id": "63933372",
   "metadata": {},
   "outputs": [],
   "source": []
  },
  {
   "cell_type": "code",
   "execution_count": null,
   "id": "48ef47bc",
   "metadata": {},
   "outputs": [],
   "source": []
  },
  {
   "cell_type": "code",
   "execution_count": null,
   "id": "1396c408",
   "metadata": {},
   "outputs": [],
   "source": []
  }
 ],
 "metadata": {
  "kernelspec": {
   "display_name": "tf-gpu",
   "language": "python",
   "name": "tf-gpu"
  },
  "language_info": {
   "codemirror_mode": {
    "name": "ipython",
    "version": 3
   },
   "file_extension": ".py",
   "mimetype": "text/x-python",
   "name": "python",
   "nbconvert_exporter": "python",
   "pygments_lexer": "ipython3",
   "version": "3.9.7"
  }
 },
 "nbformat": 4,
 "nbformat_minor": 5
}
