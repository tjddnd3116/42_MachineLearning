{
 "cells": [
  {
   "cell_type": "markdown",
   "id": "20ac09b7",
   "metadata": {},
   "source": [
    "## 확률적 경사 하강법\n",
    "\n",
    "### 경사하강법 알고리즘을 이해하고 대량의 데이터에서 분류 모델을 훈련하는 방법을 배웁니다.\n",
    "\n",
    "## 점진적인 학습\n",
    "\n",
    "만약 수산물이 계속 추가 된다고 할때 도착하는 대로 가능한 즉시 훈련 데이터를 만든다면 어느 생선이 먼저 올지, 모든 생선이 도착할 때까지 기다릴 수도 없다.\n",
    "\n",
    "어떻게 해야 할까?\n",
    "\n",
    "지금의 문제는 훈련 데이터가 조금씩 전달된다는 것이다.\n",
    "\n",
    "그럼 기본의 훈련 데이터에 새로운 데이터를 추가하여 모델을 다시 훈련하면 어떨까??\n",
    "\n",
    "그렇게 하면 시간이 지날수록 데이터가 늘어난다는 문제점이 있다.\n",
    "\n",
    "그러면 이전 데이터를 버림으로써 훈련 데이터의 크기를 일정하게 유지하면 어떨까??\n",
    "\n",
    "그렇게 하면 버린 데이터에 중요한 생선 데이터가 포함되어 있으면 큰일이다.\n",
    "\n",
    "그럼 훈련한 모델을 버리지 않고 새로운 데이터에 대해서만 조금씩 더 훈련할 수 없을까??\n",
    "\n",
    "이런식의 훈련방식을 **점진적 학습**, 온라인 학습 이라고 한다.\n",
    "\n",
    "점진적 학습 알고리즘은 **확률적 경사 하강법**이다.\n",
    "\n",
    "사이킷런에서도 확률적 경사 하강법을 위한 클래스를 제공한다.\n",
    "\n",
    "## 확률적 경사 하강법\n",
    "\n",
    "확률적이란 말은 무작위하게, 랜덤하게의 기술적인 표현이다.\n",
    "\n",
    "경사는 기울기를 말하는 것이다.\n",
    "\n",
    "하강법은 내려가는 방법이다.\n",
    "\n",
    "경사 하강법은 **경사를 따라 내려가는 방법**을 말한다.\n",
    "\n",
    "산에서 내려갈때 가장 빠른 길은 경사가 가장 가파른 길이다.\n",
    "\n",
    "경사 하강법이 이런 방법이다. 가장 가파른 경사를 따라 원하는 지점에 도달하는 것이 목표이다.\n",
    "\n",
    "가장 가파른 길을 내려오지만 **조금씩 내려오는 것**이 중요하다.\n",
    "\n",
    "내려오는 과정이 경사 하강법 모델을 훈련하는 것이다.\n",
    "\n",
    "**확률적**이라는 말은 훈련 세트를 사용하여 가장 가파른 길을 찾는데 딱 하나의 샘플을 훈련세트에서 랜덤하게 골라 가장 가파른 길을 찾는다.\n",
    "\n",
    "랜덤하게 하나의 샘플을 고르는 것이 **확률적 경사 하강법**이다.\n",
    "\n",
    "전체 샘플을 모두 사용할 때까지 계속 반복한다. 그래도 산을 다 내려오지 못한다면? **다시 처음**부터 시작한다.\n",
    "\n",
    "확률적 경사 하강법에서 훈련세트를 한번 모두 사용하는 과정을 **에포크**라고 한다.\n",
    "\n",
    "그러면 하나씩 고르지 말고 여려개의 샘플을 이용해 경사 하강법을 수행할수도 있는데 이를 **미니배치 경사 하강법**이라고 한다.\n",
    "\n",
    "전체 샘플을 사용할 수도 있다. 이를 **배치 경사하강법**이라고 한다.\n",
    "\n",
    "하지만 전체 데이터를 사용하면 컴퓨터 자원을 많이 사용하게 된다.\n",
    "\n",
    "![사진](epoch.jpeg)\n",
    "\n",
    "**확률적 경사 하강법**은 훈련 세트를 사용해 산 아래에 있는 최적의 장소로 조금씩 이동하는 알고리즘이다.\n",
    "\n",
    "그런데 어디서 내려가야 하는 걸까?? 다시 말해서 가장 빠른 길을 찾아 내려가려고 하는 이 산은 도대체 무엇일까??\n",
    "\n",
    "이 산이 **손실 함수**라고 부르는 것이다."
   ]
  },
  {
   "cell_type": "markdown",
   "id": "4876c54a",
   "metadata": {},
   "source": [
    "## 손실함수\n",
    "\n",
    "**손실 함수**는 머신러닝 알고리즘이 얼마나 엉터리인지를 측정하는 기준이다\n",
    "\n",
    "하지만 어떤 값이 최솟값인지는 알지 못한다.\n",
    "\n",
    "만족할만한 수준이라면 인정해야 한다.\n",
    ">비용함수는 손실함수의 다른말이다. 엄밀히 말하면 손실함수는 샘플 하나에 대한 손실을 정의하고 비용함수는 훈련 세트에 있는 모든 샘플에 대한 손실 함수의 합을 말한다.\n",
    "\n",
    "분류에서 손실은 정답을 못 맞추는 것이다.\n",
    "\n",
    "만약 그림과 같은 예측과 정답이 있다면?\n",
    "\n",
    "![사진](./target.jpeg)\n",
    "\n",
    "정확도는 4개의 예측 중에 2개만 맞았으므로 정확도는 0.5이다.\n",
    "\n",
    "정확도를 손실 함수로 사용할 수 있을까? 정확도에 음수를 취하면 -1.0이 가장 낮고 -0.0이 가장 높다.\n",
    "\n",
    "하지만 4개의 샘플만 있다면 정확도는 0, 0.25, 0.5, 0.75, 1 다섯 가지뿐이다.\n",
    "\n",
    "산의 경사면은 확실히 연속적이어야 한다!\n",
    "\n",
    "1절의 로지스틱 회귀모델이 확률을 출력하였다 확률은 0~1 사이의 어떤 값도 될 수 있다 즉 연속적이다.\n",
    "\n",
    "## 로지스틱 손실 함수\n",
    "\n",
    "위의 샘플 4개의 예측 확률을 각각 0.9 0.3 0.2 0.8이라고 가정해보자\n",
    "\n",
    "첫번째 샘플의 예측은 0.9이므로 양성 클래스의 타깃인 1과 곱한 다음 음수로 바꿀 수 있다.\n",
    "\n",
    "두번째 샘플의 예측은 0.3이다. 타깃이 양성 클래스(1) 인데 거리가 멀다.\n",
    "\n",
    "예측과 타깃을 곱해 음수로 바꿔보자 -0.3이 되기 때문에 확실히 첫번째 샘플보다 높은 손실이 된다.\n",
    "\n",
    "세번째 샘플은 타깃은 음성 클래스라 0이다. 이 값을 그대로 곱하면 0이되기 때문에 타깃을 마치 양성 클래스 처럼 바꾸어 1로 만든다.\n",
    "\n",
    "대신에 예측값도 양성 클래스에 대한 예측으로 바꾼다. 즉 1 - 0.2 =0.8로 사용한다.\n",
    "\n",
    "그다음 곱하고 음수로 바꾼다.\n",
    "\n",
    "세번째 샘플은 음성 클래스인 타깃을 맞추었으므로 손실이 낮아야 한다. -0.8은 꽤 낮은 손실이다.\n",
    "\n",
    "네번째 샘플도 타깃은 음성 클래스이다. 하지만 정답을 맞히지 못하였다. 타깃을 1로 바꾸고 예측 확률을 1에서 뺀다음 곱해서 음수로 바꿔 보자.\n",
    "\n",
    "네번째 샘플의 손실이 높다.\n",
    "\n",
    "![사진](./example.jpeg)\n",
    "\n",
    "이런 방식으로 계산하면 연속적인 손실 함수를 얻을 수 있을 것같다.\n",
    "\n",
    "여기에서 예측 확률에 로그 함수를 적용하면 더 좋다.\n",
    "\n",
    "예측 확률의 범위는 0~1 사이인데 로그 함수는 이 사이에서 음수가 되므로 최종 손실 값은 양수가 된다.\n",
    "\n",
    "또 로그 함수는 0에 가까울수록 아주 큰 음수가 되기 때문에 손실을 아주 크게 만들어 모델에 큰 영향을 미칠 수 있다.\n",
    "\n",
    "![사진](./log.jpeg)\n",
    "\n",
    "정리하면 위의 그림과 같다.\n",
    "\n",
    "양성 클래스(타깃 = 1)일때 손실은 -log(예측확률)로 계산한다. 확률이 1에서 멀어질수록 손실은 아주 큰 양수가 된다.\n",
    "\n",
    "음성 클래스(타깃 = 0)일때 손실은 -log(1-예측확률)로 계산한다. 예측 확률이 0에서 멀어질수록 손실은 아주 큰 양수가 된다.\n",
    "\n",
    "이 손실 함수를 **로지스틱 손실 함수**라고 부른다 또는 **이진 크로스에트로피 손실 함수**라고도 부른다.\n",
    "\n",
    "다중 분류에서 사용하는 손실 함수를 **크로스엔트로피 손실함수**라고 부른다.\n",
    "\n",
    "이진 분류는 로지스틱 손실 함수를 사용하고 다중 분류는 크로스엔트로피 손실 함수를 사용한다.\n"
   ]
  },
  {
   "cell_type": "markdown",
   "id": "9fff96d5",
   "metadata": {},
   "source": [
    "## SGDClassifier\n",
    "\n",
    "이번에도 fish_csv_data파일에서 판다스 데이터프레임을 만들어보자."
   ]
  },
  {
   "cell_type": "code",
   "execution_count": 2,
   "id": "e7d03e38",
   "metadata": {},
   "outputs": [],
   "source": [
    "import pandas as pd\n",
    "fish = pd.read_csv('https://bit.ly/fish_csv_data')\n",
    "\n",
    "# 그다음 Species 열을 제외한 나머지 5개는 입력 데이터로 사용한다.\n",
    "fish_input = fish[['Weight','Length','Diagonal','Height','Width']].to_numpy()\n",
    "fish_target = fish['Species'].to_numpy()\n",
    "\n",
    "# 사이킷런의 train_test_split()함수를 사용해 훈련 세트와 테스트 세트로 나눈다.\n",
    "from sklearn.model_selection import train_test_split\n",
    "train_input, test_input, train_target, test_target = train_test_split(fish_input, fish_target, random_state=42)\n",
    "\n",
    "# 이제 훈련세트와 테스트 세트의 특성을 표준화 전처리 한다.\n",
    "# 꼭 훈련 세트에서 학습한 통계값으로 테스트 세트도 변환해야 한다.\n",
    "from sklearn.preprocessing import StandardScaler\n",
    "ss = StandardScaler()\n",
    "ss.fit(train_input)\n",
    "train_scaled = ss.transform(train_input)\n",
    "test_scaled = ss.transform(test_input)\n",
    "\n",
    "#사이킷런에서 확률적 경사 하강법을 제공하는 대표적인 분류용 클래스는 SGDClassifier이다.\n",
    "#sklearn.linear_model 패키지 아래에서 임포트 해보자.\n",
    "from sklearn.linear_model import SGDClassifier"
   ]
  },
  {
   "cell_type": "markdown",
   "id": "17aeb800",
   "metadata": {},
   "source": [
    "SGDClassifier의 객체를 만들때 2개의 매개변수를 지정한다.\n",
    "\n",
    "loss는 손실 함수의 종류를 지정한다. 여기서는 loss='log'로 지정하여 로지스틱 손실 함수를 지정했다.\n",
    "\n",
    "max_iter는 수행할 에포크 횟수를 지정한다. 10으로 지정하여 전체 훈련 세트를 10회 반복한다.\n",
    "\n",
    "그다음 훈련 세트와 테스트 세트에서 정확도 점수를 출력한다."
   ]
  },
  {
   "cell_type": "code",
   "execution_count": 7,
   "id": "47b96de1",
   "metadata": {},
   "outputs": [
    {
     "name": "stdout",
     "output_type": "stream",
     "text": [
      "0.773109243697479\n",
      "0.775\n"
     ]
    },
    {
     "name": "stderr",
     "output_type": "stream",
     "text": [
      "/home/innoacad06/anaconda3/envs/soum/lib/python3.9/site-packages/sklearn/linear_model/_stochastic_gradient.py:696: ConvergenceWarning: Maximum number of iteration reached before convergence. Consider increasing max_iter to improve the fit.\n",
      "  warnings.warn(\n"
     ]
    }
   ],
   "source": [
    "sc = SGDClassifier(loss='log', max_iter=10, random_state=42)\n",
    "sc.fit(train_scaled, train_target)\n",
    "print(sc.score(train_scaled, train_target))\n",
    "print(sc.score(test_scaled, test_target))"
   ]
  },
  {
   "cell_type": "markdown",
   "id": "8ced3d77",
   "metadata": {},
   "source": [
    "출력된 훈련 세트와 테스트 세트 정확도가 낮다. 아마도 지정한 반복 횟수 10번이 부족해 보인다.\n",
    "\n",
    "확률적 경사 하강법은 점진적 학습이 가능하다. SGDClassifier 객체를 다시 만들지 않고 훈련한 모델 sc를 추가로 더 훈련해 보자.\n",
    "\n",
    "모델을 이어서 훈련할 때는 parial_fit() 매서드를 사용한다.\n",
    "\n",
    "이 메서드는 fit() 메서드와 사용법이 같지만 호출할 때마다 1에포크씩 이어서 훈련할 수 있다."
   ]
  },
  {
   "cell_type": "code",
   "execution_count": 8,
   "id": "f6966da0",
   "metadata": {},
   "outputs": [
    {
     "name": "stdout",
     "output_type": "stream",
     "text": [
      "0.8151260504201681\n",
      "0.85\n"
     ]
    }
   ],
   "source": [
    "sc.partial_fit(train_scaled, train_target)\n",
    "print(sc.score(train_scaled, train_target))\n",
    "print(sc.score(test_scaled, test_target))"
   ]
  },
  {
   "cell_type": "markdown",
   "id": "3b08d9ac",
   "metadata": {},
   "source": [
    "아직 점수가 낮지만 정확도가 향상되었다.\n",
    "\n",
    "이 모델을 여러 에포크에서 더 훈련해 볼 필요가 있다. 얼마나 훈련해야 할까? 무작정 많이 반복할 수는 없고 어떤 기준이 필요하다.\n",
    "\n",
    "## 에포크와 과대/과소적합\n",
    "\n",
    "확률적 경사 하강법을 사용한 모델은 에포크 횟수에 따라 과소적합이나 과대적합이 될 수 있다.\n",
    "\n",
    "에포크 횟수가 적으면 모델이 훈련 세트를 덜 학습한다.\n",
    "\n",
    "에포크 획수가 충분히 많으면 훈련 세트를 완전히 학습한다.\n",
    "\n",
    "적은 에포크 횟수는 과소적합된 모델일 가능성이 높다.\n",
    "\n",
    "많은 에포크 횟수는 과대적합된 모델일 가능성이 높다.\n",
    "\n",
    "![사진](./early.jpeg)\n",
    "\n",
    "훈련 세트 점수는 에포크가 진행될수록 꾸준히 증가하지만 테스트 세트 점수는 어느 순간 감소하기 시작한다.\n",
    "\n",
    "이 지점이 과대적합되기 시작하는 곳이다. 과대적합이 시작하기 전에 훈련을 멈추는 것을 **조기 종료**라고 한다.\n",
    "\n",
    "이 예제에서는 fit() 메서드를 사용하지 않고 partial_fit() 메서드만 사용한다.\n",
    "\n",
    "그러면 훈련 세트에 있는 전체 클래스의 레이블을 partial_fit() 메서드에 전달해 주어야 한다.\n",
    "\n",
    "이를 위해 np.unique() 함수로 train_terget에 있는 7개 생선의 목록을 만든다.\n",
    "\n",
    "또 에포크마다 훈련 세트와 테스트 세트에 대한 점수를 기록하기 위해 2개의 리스트를 준비한다."
   ]
  },
  {
   "cell_type": "code",
   "execution_count": 9,
   "id": "54668f52",
   "metadata": {},
   "outputs": [
    {
     "data": {
      "image/png": "[encoded data removed]",
      "text/plain": [
       "<Figure size 432x288 with 1 Axes>"
      ]
     },
     "metadata": {
      "needs_background": "light"
     },
     "output_type": "display_data"
    }
   ],
   "source": [
    "import numpy as np\n",
    "sc = SGDClassifier(loss='log', random_state=42)\n",
    "train_score = []\n",
    "test_score = []\n",
    "classes = np.unique(train_target)\n",
    "\n",
    "# 300번의 에포크 동안 훈련을 반복하여 진행해보자. \n",
    "# 반복마다 훈련 세트와 테스트 세트의 점수를 계산하여 train_score, test_score 리스트에 추가한다.\n",
    "for _ in range(0, 300):\n",
    "    sc.partial_fit(train_scaled, train_target, classes=classes)\n",
    "    train_score.append(sc.score(train_scaled, train_target))\n",
    "    test_score.append(sc.score(test_scaled, test_target))\n",
    "    \n",
    "# 300번의 에포크 동안 기록한 훈련 세트와 테스트 세트의 점수를 그래프로 그려보자\n",
    "import matplotlib.pyplot as plt\n",
    "plt.plot(train_score)\n",
    "plt.plot(test_score)\n",
    "plt.xlabel('epoch')\n",
    "plt.ylabel('accuracy')\n",
    "plt.show()"
   ]
  },
  {
   "cell_type": "markdown",
   "id": "ac43caf3",
   "metadata": {},
   "source": [
    "그래프를 보니 백 번째 에포크 이후에는 훈련 세트와 테스트 세트의 점수가 조금씩 벌어지고 있다.\n",
    "\n",
    "또 확실히 에포크 초기에는 과소적합되어 훈련세트와 테스트 세트의 점수가 낮다.\n",
    "\n",
    "이 모델의 경우 백 번째 에포크가 적절한 반복 횟수로 보인다.\n",
    "\n",
    "그럼 SGDClassifier의 반복 횟수를 100에 맞추고 모델을 다시 훈련해보자.\n",
    "\n",
    "그리고 최종적으로 훈련 세트와 테스트 세트에서 점수를 출력해보자."
   ]
  },
  {
   "cell_type": "code",
   "execution_count": 10,
   "id": "48f64cfe",
   "metadata": {},
   "outputs": [
    {
     "name": "stdout",
     "output_type": "stream",
     "text": [
      "0.957983193277311\n",
      "0.925\n"
     ]
    }
   ],
   "source": [
    "sc = SGDClassifier(loss='log', max_iter=100, tol=None, random_state=42)\n",
    "sc.fit(train_scaled, train_target)\n",
    "print(sc.score(train_scaled, train_target))\n",
    "print(sc.score(test_scaled, test_target))"
   ]
  },
  {
   "cell_type": "markdown",
   "id": "9257c84a",
   "metadata": {},
   "source": [
    "SGDClassifier의 loss 매개변수를 알아보자.\n",
    "\n",
    "loss 매개변수의 기본값은 'hinge'이다. **힌지 손실**은 **서포트 벡터 머신**이라 불리는 또 다른 머신러닝 알고리즘을 위한 손실 함수이다.\n",
    "\n",
    "서포트 벡터 머신이 널리 사용하는 머신러닝 알고리즘 중 하나, 여러 종류의 손실 함수를 loss 매개변수에 지정하여 다양한 머신러닝 알고리즘을 지원한다.\n",
    "\n",
    "힌지 손실을 사용해 같은 반복 횟수 동안 모델을 훈련해 보자."
   ]
  },
  {
   "cell_type": "code",
   "execution_count": 11,
   "id": "3f93b776",
   "metadata": {},
   "outputs": [
    {
     "name": "stdout",
     "output_type": "stream",
     "text": [
      "0.9495798319327731\n",
      "0.925\n"
     ]
    }
   ],
   "source": [
    "sc = SGDClassifier(loss='hinge', max_iter=100, tol=None, random_state=42)\n",
    "sc.fit(train_scaled, train_target)\n",
    "print(sc.score(train_scaled, train_target))\n",
    "print(sc.score(test_scaled, test_target))"
   ]
  },
  {
   "cell_type": "markdown",
   "id": "60b00563",
   "metadata": {},
   "source": [
    "## 점진적 학습을 위한 확률적 경사 하강법<문제해결 과정>\n",
    "\n",
    "생선을 실시간으로 학습하기 위한 새로운 머신러닝 모델이 필요하다.\n",
    "\n",
    "**확률적 경사 하강법**을 사용해 점진적으로 학습하는 로지스틱 회귀 모델을 훈련하였다.\n",
    "\n",
    "확률적 경사 하강법은 **손실 함수**라는 산을 정의하고 가장 가파른 경사를 따라 조금씩 내려오는 알고리즘이다.\n",
    "\n",
    "충분히 반복하여 훈련하면 훈련 세트에서 높은 점수를 얻는 모델을 만들 수 있다.\n",
    "\n",
    "훈련을 반복할수록 어느순간 과대적합되고 테스트 세트의 정확도가 줄어든다.\n",
    "\n",
    "지금까지 회귀와 분류에 널리 사용되는 다양한 알고리즘을 배웠다. 이 알고리즘들은 실전에서 널리 사용되는 뛰어난 기법이지만 최고는 아니다.\n",
    "\n",
    "머신러닝에서 가장 뛰어난 성능을 내는 알고리즘이 있다. 다음장에서 이 알고리즘을 배워보자"
   ]
  },
  {
   "cell_type": "code",
   "execution_count": null,
   "id": "8c5c3caf",
   "metadata": {},
   "outputs": [],
   "source": []
  }
 ],
 "metadata": {
  "kernelspec": {
   "display_name": "tf-gpu",
   "language": "python",
   "name": "tf-gpu"
  },
  "language_info": {
   "codemirror_mode": {
    "name": "ipython",
    "version": 3
   },
   "file_extension": ".py",
   "mimetype": "text/x-python",
   "name": "python",
   "nbconvert_exporter": "python",
   "pygments_lexer": "ipython3",
   "version": "3.9.7"
  }
 },
 "nbformat": 4,
 "nbformat_minor": 5
}
