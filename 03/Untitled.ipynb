{
 "cells": [
  {
   "cell_type": "markdown",
   "id": "a3cf30b9",
   "metadata": {},
   "source": [
    "# 03-1 k-최근접 이웃 회귀\n",
    "### 지도 학습의 한 종류인 회귀 문제를 이해하고 k-최근접 이웃 알고리즘을 사용해 농어의 무게를 예측하는 회귀 문제를 풀어봅시다."
   ]
  },
  {
   "cell_type": "markdown",
   "id": "369c6331",
   "metadata": {},
   "source": [
    "02장에서는 도미와 빙어를 구분하는 머신러닝 모델을 만들었지만 이번에는 무게를 예측 해야하는 모델을 만들어야함  \n",
    "지도 학습에는 크게 분류와 회귀로 나뉨  \n",
    ">**회귀란?** 두 변수 사이의 상관관계를 분석하는 방법  \n",
    "**k-최근접 이웃 분류** : 예측하려는 샘플에 가장 가까운 샘플 k개를 선택하여 그중 다수의 클래스를 새로운 샘플의 클래스로 예측함   \n",
    "**k-최근접 이웃 회귀** : 예측하려는 샘플에 가장 가까운 샘플 k개를 선택하여 이 샘플들의 평균을 구하면 됨  \n",
    "## 데이터 준비"
   ]
  },
  {
   "cell_type": "code",
   "execution_count": 8,
   "id": "d058cb77",
   "metadata": {},
   "outputs": [],
   "source": [
    "import numpy as np\n",
    "# 넘파이 배열로 perch_lenth, perch_weight 배열 만듬\n",
    "perch_length = np.array([8.4, 13.7, 15.0, 16.2, 17.4, 18.0, 18.7, 19.0, 19.6, 20.0, 21.0,\n",
    "       21.0, 21.0, 21.3, 22.0, 22.0, 22.0, 22.0, 22.0, 22.5, 22.5, 22.7,\n",
    "       23.0, 23.5, 24.0, 24.0, 24.6, 25.0, 25.6, 26.5, 27.3, 27.5, 27.5,\n",
    "       27.5, 28.0, 28.7, 30.0, 32.8, 34.5, 35.0, 36.5, 36.0, 37.0, 37.0,\n",
    "       39.0, 39.0, 39.0, 40.0, 40.0, 40.0, 40.0, 42.0, 43.0, 43.0, 43.5,\n",
    "       44.0])\n",
    "perch_weight = np.array([5.9, 32.0, 40.0, 51.5, 70.0, 100.0, 78.0, 80.0, 85.0, 85.0, 110.0,\n",
    "       115.0, 125.0, 130.0, 120.0, 120.0, 130.0, 135.0, 110.0, 130.0,\n",
    "       150.0, 145.0, 150.0, 170.0, 225.0, 145.0, 188.0, 180.0, 197.0,\n",
    "       218.0, 300.0, 260.0, 265.0, 250.0, 250.0, 300.0, 320.0, 514.0,\n",
    "       556.0, 840.0, 685.0, 700.0, 700.0, 690.0, 900.0, 650.0, 820.0,\n",
    "       850.0, 900.0, 1015.0, 820.0, 1100.0, 1000.0, 1100.0, 1000.0,\n",
    "       1000.0])\n"
   ]
  },
  {
   "cell_type": "code",
   "execution_count": 9,
   "id": "12a45e88",
   "metadata": {},
   "outputs": [
    {
     "data": {
      "image/png": "[encoded data removed]",
      "text/plain": [
       "<Figure size 432x288 with 1 Axes>"
      ]
     },
     "metadata": {
      "needs_background": "light"
     },
     "output_type": "display_data"
    }
   ],
   "source": [
    "# 데이터의 산점도\n",
    "import matplotlib.pyplot as plt\n",
    "plt.scatter(perch_length, perch_weight)\n",
    "plt.xlabel('length')\n",
    "plt.ylabel('weight')\n",
    "plt.show()"
   ]
  },
  {
   "cell_type": "markdown",
   "id": "759c12ae",
   "metadata": {},
   "source": [
    "농어의 길이가 커짐에 따라 무게도 늘어남  \n",
    "\n",
    "농어 데이터를 머신러닝 모델에 사용하기 전에 훈련 세트와 테스트 세트로 나눔"
   ]
  },
  {
   "cell_type": "code",
   "execution_count": 10,
   "id": "9d481544",
   "metadata": {},
   "outputs": [
    {
     "name": "stdout",
     "output_type": "stream",
     "text": [
      "(42, 1) (14, 1)\n"
     ]
    }
   ],
   "source": [
    "from sklearn.model_selection import train_test_split\n",
    "train_input, test_input, train_target, test_target = train_test_split(perch_length, perch_weight, random_state=42)\n",
    "# perch_length가 1차원 배열이기 때문에 train_input, test_input도 1차원 배열이다.\n",
    "# 사이킷런에 사용할 훈련세트는 2차원 배열이어야 하기때문에 1차원 배열을 2차원 배열로 만들어준다.\n",
    "#[1,2,3] -> [[1],[2],[3]]\n",
    "train_input = train_input.reshape(-1, 1)\n",
    "test_input = test_input.reshape(-1, 1)\n",
    "# 2차원 배열로 바꾼 결과\n",
    "print(train_input.shape, test_input.shape)"
   ]
  },
  {
   "cell_type": "markdown",
   "id": "a5838c65",
   "metadata": {},
   "source": [
    "## 결정계수($R^2$)  \n",
    "사이킷런에서 k-최근접 이웃 회귀 알고리즘을 구현한 클래스는 KNeighborRegressor이다. \n",
    "\n",
    "이 클래스의 사용법은 KNeightborsClassifier와 매우 비슷하다. 객체를 생성하고 fit() 메서드로 회귀 모델을 훈련하면 된다. "
   ]
  },
  {
   "cell_type": "code",
   "execution_count": 11,
   "id": "80a829eb",
   "metadata": {},
   "outputs": [
    {
     "name": "stdout",
     "output_type": "stream",
     "text": [
      "0.992809406101064\n"
     ]
    }
   ],
   "source": [
    "from sklearn.neighbors import KNeighborsRegressor\n",
    "knr = KNeighborsRegressor()\n",
    "# k-최근접 이웃 회귀 모델을 훈련한다.\n",
    "knr.fit(train_input, train_target)\n",
    "print(knr.score(test_input, test_target))"
   ]
  },
  {
   "cell_type": "markdown",
   "id": "821bb25b",
   "metadata": {},
   "source": [
    "저 점수는 무엇일까??  \n",
    "\n",
    "분류의 경우 테스트 세트에 있는 샘플을 정확하게 분류한 개수의 비율  (**정확도**)  \n",
    "\n",
    "회귀의 경우에는 **결정계수**, **$R^2$**\n",
    "\n",
    ">## $R^2$ = 1 - $(타깃 - 예측)^2의 합\\over(타깃 - 평균)^2의 합$  \n",
    "\n",
    "정확도 처럼 $R^2$가 얼마나 좋은지 이해하기는 어렵다.  \n",
    "\n",
    "그래서 타깃과 예측한 값 사이의 차이를 구해보면 어느정도 예측이 벗어났는지 가늠하기 좋다.  \n",
    "\n",
    "사이킷런의 sklearnmertrics 패키지의 mean_absolute_error는 타깃과 예측의 절댓값 오차를 평균하여 반환함  "
   ]
  },
  {
   "cell_type": "code",
   "execution_count": 12,
   "id": "dfcf87fa",
   "metadata": {},
   "outputs": [
    {
     "name": "stdout",
     "output_type": "stream",
     "text": [
      "19.157142857142862\n"
     ]
    }
   ],
   "source": [
    "from sklearn.metrics import mean_absolute_error\n",
    "\n",
    "# 테스트 세트에 대한 예측을 만듭니다.\n",
    "test_prediction = knr.predict(test_input)\n",
    "\n",
    "# 테스트 세트에 대한 평균 절대값 오차를 계산합니다.\n",
    "mae = mean_absolute_error(test_target, test_prediction)\n",
    "print(mae)"
   ]
  },
  {
   "cell_type": "markdown",
   "id": "5a157879",
   "metadata": {},
   "source": [
    "결과에서 예측이 평균적으로 19g 정도 타깃값과 다르다는 것을 알 수 있다.  \n",
    "\n",
    "## 과대적합 vs 과소적합  \n",
    "앞에서 훈련한 모델을 사용해 훈련 세트의 $R^2$ 점수를 확인해보자"
   ]
  },
  {
   "cell_type": "code",
   "execution_count": 13,
   "id": "3418dcc6",
   "metadata": {},
   "outputs": [
    {
     "name": "stdout",
     "output_type": "stream",
     "text": [
      "0.9698823289099254\n"
     ]
    }
   ],
   "source": [
    "print(knr.score(train_input, train_target))"
   ]
  },
  {
   "cell_type": "markdown",
   "id": "8e9efa08",
   "metadata": {},
   "source": [
    "만약 훈련세트에서 점수가 굉장히 좋았는데 테스트 세트에서는 점수가 굉장히 나쁘다면 모델이 훈련 세트에 **과대적합**되었다고 말함  \n",
    "\n",
    "즉 훈련 세트에만 잘 맞는 모델\n",
    "\n",
    "반대로 훈련 세트보다 테스트 세트의 점수가 높거나 두 점수가 모두 너무 낮은 경우에는 **과소적합**되었다고 말한다.  \n",
    "\n",
    "즉 모델이 너무 단순하여 훈련세트에 적절히 훈련되지 않은 경우이다.\n",
    "\n",
    "> 과소적합이 일어나는 이유 : 또 다른 원인은 훈련 세트와 테스트 세트의 크기가 너무 작기 때문  \n",
    "\n",
    "따라서 훈련 세트가 전체 데이터를 대표한다고 가정하기 때문에 훈련세트를 잘 학습하는 것이 중요하다!  \n",
    "\n",
    "훈련 세트보다 테스트 세트의 점수가 높으니 **과소적합**이다. 어떻게 해결할 수 있을까?\n",
    "\n",
    ">모델을 조금 더 복잡하게 만들면 된다!\n",
    "\n",
    "어떻게? 이웃의 개수 k를 줄인다\n",
    "\n",
    ">이웃의 개수를 줄이면 훈련 세트에 있는 국지적인 패턴에 민감해지고, 이웃의 개수를 늘리면 데이터 전반에 있는 일반적인 패턴을 따른다."
   ]
  },
  {
   "cell_type": "code",
   "execution_count": 15,
   "id": "58cfa254",
   "metadata": {},
   "outputs": [
    {
     "name": "stdout",
     "output_type": "stream",
     "text": [
      "0.9804899950518966\n"
     ]
    }
   ],
   "source": [
    "# 이웃의 개수를 3으로 설정한다.\n",
    "knr.n_neighbors = 3\n",
    "\n",
    "# 모델을 다시 훈련한다.\n",
    "knr.fit(train_input, train_target)\n",
    "print(knr.score(train_input, train_target))"
   ]
  },
  {
   "cell_type": "markdown",
   "id": "08e4207f",
   "metadata": {},
   "source": [
    "k값을 줄이니 훈련세트의 $R^2$점수가 높아졌다  \n",
    "\n",
    "테스트 세트의 점수는?"
   ]
  },
  {
   "cell_type": "code",
   "execution_count": 16,
   "id": "8875438c",
   "metadata": {},
   "outputs": [
    {
     "name": "stdout",
     "output_type": "stream",
     "text": [
      "0.9746459963987609\n"
     ]
    }
   ],
   "source": [
    "print(knr.score(test_input, test_target))"
   ]
  },
  {
   "cell_type": "markdown",
   "id": "9fd3a0a8",
   "metadata": {},
   "source": [
    "예상대로 테스트 세트의 점수는 훈련 세트보다 낮아졌으므로 과소적합 문제를 해결한 것 같다  \n",
    "\n",
    "또한 두 점수의 차이가 크지 않으므로 이 모델이 과대적합 된 것 같지도 않다."
   ]
  },
  {
   "cell_type": "markdown",
   "id": "b8375684",
   "metadata": {},
   "source": [
    "## 회귀 문제 다루기 <문제해결 과정>\n",
    "\n",
    "이번에는 농어의 높이, 길이 등의 수치로 무게를 예측해 보았다. 이 문제는 분류가 아니라 **회귀** 문제이다. 회귀는 임의의 수치를 예측하는 문제이다.\n",
    "\n",
    "따라서 무게를 예측하는 **k-최근접 이웃 회귀** 모델을 만들었다.\n",
    "\n",
    "k-최근접 이웃 회귀 모델은 분류와 동일하게 가장 먼저 가까운 k개의 이웃을 찾는다. 그다음 이웃샘플의 타깃값을 편균하여 이 샘플의 예측값으로 사용한다.\n",
    "\n",
    "사이킷런은 회귀 모델의 점수로 $R^2$, 즉 **결정계수** 값을 반환한다. 1에 가까울수록 좋다.\n",
    "\n",
    "정량적인 평가를 하고 싶다면 사이킷런에서 제공하는 다른 평가도구를 사용할 수 있다. 대표적으로 **절댓값 오차**가 있다.\n",
    "\n",
    "모델을 훈련하고 나서 훈련 세트와 테스트 세트에 대해 모두 평가 점수를 구할 수있다.\n",
    "\n",
    "훈련 세트의 점수과 테스트 세트의 점수 차이가 크면 좋지않다.\n",
    "\n",
    "일반적으로 훈련 세트의 점수가 테스트 세트보다 조금 더 높다.\n",
    "\n",
    "만약 테스트 세트의 점수가 너무 낮다면 모델이 훈련 세트에 과도하게 맞춰진 것이다. 이것을 **과대적합** 이라고 한다.\n",
    "\n",
    "반대로 테스트 세트 점수가 너무 높거나 두 점수가 모두 낮으면 **과소적합**이다.\n",
    "\n",
    "**과대적합**일 경우 모델을 덜 복잡하게 만들어야 한다. k-최근접 이웃의 경우 k값을 늘린다.\n",
    "**과소적합**일 경우 모델을 더 복잡하게 만들어야 한다. k-최근접 이웃의 경우 k값을 줄인다."
   ]
  },
  {
   "cell_type": "code",
   "execution_count": null,
   "id": "1f99166b",
   "metadata": {},
   "outputs": [],
   "source": []
  }
 ],
 "metadata": {
  "kernelspec": {
   "display_name": "tf-gpu",
   "language": "python",
   "name": "tf-gpu"
  },
  "language_info": {
   "codemirror_mode": {
    "name": "ipython",
    "version": 3
   },
   "file_extension": ".py",
   "mimetype": "text/x-python",
   "name": "python",
   "nbconvert_exporter": "python",
   "pygments_lexer": "ipython3",
   "version": "3.9.7"
  }
 },
 "nbformat": 4,
 "nbformat_minor": 5
}
