{
 "cells": [
  {
   "cell_type": "markdown",
   "id": "16574eab",
   "metadata": {},
   "source": [
    "# 특성 공학과 규제\n",
    "\n",
    "### 여러 특성을 사용한 다중 회귀에 대해 배우고 사이킷런의 여러 도구를 사용해 봅니다.\n",
    "### 복잡한 모델의 과대적합을 막기 위한 릿지와 라쏘 회귀를 배웁니다.\n",
    "\n"
   ]
  },
  {
   "cell_type": "markdown",
   "id": "8eab7147",
   "metadata": {},
   "source": [
    "## 다중회귀\n",
    "\n",
    "2절에서는 하나의 특성을 사용하여 선형 회귀 모델을 훈련시켰다.\n",
    "\n",
    "하지만 여러개의 특성을 사용할 수도 있는데 이것을 **다중 회귀**라고 부른다.\n",
    "\n",
    "1개의 특성을 사용했을 때 선형 회귀 모델이 학습하는 것은 **직선**이다.\n",
    "\n",
    "2개의 특성을 사용하면 성형 회귀는 **평면**을 학습한다.\n",
    "\n",
    "![사진](./multipleRegression.jpeg)\n",
    "\n",
    "특성이 2개면 타깃값과 3차원 공간을 형성하고 선형 회귀 방정식\n",
    ">$타깃 = a * 특성1 + b * 특성2 + 절편$\n",
    "\n",
    "이된다.\n",
    "\n",
    "이 예제에서는 농어의 길이뿐만 아니라 농어의 높이와 두께도 함께 사용한다.\n",
    "\n",
    "3개의 특성을 각각 제곱하여 추가한뒤 각 특성을 서로 곱해서 또 다른 특성을 만든다.\n",
    "\n",
    "즉, 농어길이 * 농어 높이를 새로운 특성으로 만든다.\n",
    "\n",
    "기존의 특성을 사용해 새로운 특성을 뽑아내는 작업을 **특성 공학**이라고 부른다.\n",
    "\n",
    "농어 데이터를 다시 불러오는 것부터 시작해 보자"
   ]
  },
  {
   "cell_type": "markdown",
   "id": "686c591f",
   "metadata": {},
   "source": [
    "## 데이터 준비\n",
    "\n",
    "데이터를 전과 같이 항상 복사해 붙여넣는 것도 번거롭다.\n",
    "\n",
    "인터넷에서 데이터를 바로 다운로드하여 사용할 수는 없을까?\n",
    "\n",
    "**판다스**를 사용하면 가능하다.\n",
    "\n",
    "**판다스**는 데이터 분석 라이브러리이다.\n",
    "\n",
    "**데이터프레임**은 판다스의 핵심 데이터 구조이다.\n",
    "\n",
    "또 데이터프레임은 넘파이 배열로 쉽게 바꿀 수도 있다.\n",
    "\n",
    "판다스 데이터 프레임을 만들기 위해 많이 사용하는 파일은 CSV 파일이다.\n",
    "\n",
    "**CSV파일**은 콤마로 나누어져 있는 텍스트 파일이다.\n",
    "\n",
    "판다스에서 읽는 방법은 판다스의 read_csv() 함수에 주소를 넣어 주는 것이 전부이다.\n",
    "\n",
    "데이터 프레임을 만든 다음 to_numpy() 메서드를 사용해 넘파이 배열로 바꾼다.\n",
    "\n",
    "![사진](./csv.jpeg)\n"
   ]
  },
  {
   "cell_type": "code",
   "execution_count": 30,
   "id": "b08e541b",
   "metadata": {},
   "outputs": [],
   "source": [
    "# pd는 관례적으로 사용하는 판다스의 별칭이다.\n",
    "import pandas as pd\n",
    "df = pd.read_csv('https://bit.ly/perch_csv_data')\n",
    "perch_full = df.to_numpy()"
   ]
  },
  {
   "cell_type": "code",
   "execution_count": 31,
   "id": "6cc599d6",
   "metadata": {},
   "outputs": [],
   "source": [
    "import numpy as np\n",
    "perch_weight = np.array([5.9, 32.0, 40.0, 51.5, 70.0, 100.0, 78.0, 80.0, 85.0, 85.0, 110.0,\n",
    "       115.0, 125.0, 130.0, 120.0, 120.0, 130.0, 135.0, 110.0, 130.0,\n",
    "       150.0, 145.0, 150.0, 170.0, 225.0, 145.0, 188.0, 180.0, 197.0,\n",
    "       218.0, 300.0, 260.0, 265.0, 250.0, 250.0, 300.0, 320.0, 514.0,\n",
    "       556.0, 840.0, 685.0, 700.0, 700.0, 690.0, 900.0, 650.0, 820.0,\n",
    "       850.0, 900.0, 1015.0, 820.0, 1100.0, 1000.0, 1100.0, 1000.0,\n",
    "       1000.0])"
   ]
  },
  {
   "cell_type": "markdown",
   "id": "7316fc1e",
   "metadata": {},
   "source": [
    "그 다음 perch_full과 perch_weight를 훈련 세트와 테스트 세트로 나눈다."
   ]
  },
  {
   "cell_type": "code",
   "execution_count": 32,
   "id": "da11d82d",
   "metadata": {},
   "outputs": [],
   "source": [
    "from sklearn.model_selection import train_test_split\n",
    "train_input, test_input, train_target, test_target = train_test_split(perch_full, perch_weight, random_state=42)"
   ]
  },
  {
   "cell_type": "markdown",
   "id": "e16319ad",
   "metadata": {},
   "source": [
    "## 사이킷런의 변환기\n",
    "\n",
    "사이킷런은 특성을 만들거나 전처리하기 위한 다양한 클래스를 제공한다. 이런 클래스를 **변환기**라고 부른다.\n",
    "\n",
    "우리가 사용할 변환기는 PolynomialFeatures 클래스이다."
   ]
  },
  {
   "cell_type": "code",
   "execution_count": 33,
   "id": "0314e7e4",
   "metadata": {},
   "outputs": [],
   "source": [
    "from sklearn.preprocessing import PolynomialFeatures"
   ]
  },
  {
   "cell_type": "markdown",
   "id": "93c53470",
   "metadata": {},
   "source": [
    "2개의 특성 2와3으로 이루어진 샘플 하나를 적용해보자."
   ]
  },
  {
   "cell_type": "code",
   "execution_count": 34,
   "id": "bc52b2b8",
   "metadata": {},
   "outputs": [
    {
     "name": "stdout",
     "output_type": "stream",
     "text": [
      "[[1. 2. 3. 4. 6. 9.]]\n"
     ]
    }
   ],
   "source": [
    "poly = PolynomialFeatures()\n",
    "poly.fit([[2, 3]])\n",
    "print(poly.transform([[2,3]]))"
   ]
  },
  {
   "cell_type": "markdown",
   "id": "58abdc17",
   "metadata": {},
   "source": [
    "**fit()** 메서드는 새롭게 만들 특성 조합을 찾고\n",
    "\n",
    "**transform()** 메서드는 실제로 데이터를 변환한다.\n",
    "\n",
    "변환기는 입력 데이터를 변환하는데 타깃 데이터가 필요하지 않다.\n",
    "\n",
    "**PolynomialFeatures 클래스**는 기본적으로 각 특성을 제곱한 항을 추가하고 특성끼리 서로 곱한 항을 추가한다.\n",
    "\n",
    "2와 3을 각기 제곱한 4와 9가 추가 되었고 2와 3을 곱한 6이 추가되었는데 1은 왜 추가가 되었을까?\n",
    "\n",
    ">$무게 = a * 길이 + b * 높이 + c * 두께 + d * 1$\n",
    "\n",
    "사실 선형 방정식의 절편을 항상 값이 1인 특성과 곱해지는 계수라고 볼 수 있다.\n",
    "\n",
    "사이킷런의 선형 모델은 자동으로 절편을 추가하므로 include_bias=False로 지정하여 다시 특성을 변환 해보자."
   ]
  },
  {
   "cell_type": "code",
   "execution_count": 35,
   "id": "a646c871",
   "metadata": {},
   "outputs": [
    {
     "name": "stdout",
     "output_type": "stream",
     "text": [
      "[[2. 3. 4. 6. 9.]]\n"
     ]
    }
   ],
   "source": [
    "poly = PolynomialFeatures(include_bias=False)\n",
    "poly.fit([[2,3]])\n",
    "print(poly.transform([[2,3]]))"
   ]
  },
  {
   "cell_type": "markdown",
   "id": "5c4674d1",
   "metadata": {},
   "source": [
    "절편을 위한 항이 제거되고 특성의 제곱과 특성끼리 곱한 항만 추가 되었다.\n",
    "\n",
    "이제 이 방식으로 train_input에 적용해보자\n",
    "\n",
    "train_input을 변환한 데이터를 train_poly에 저장하고 이 배열의 크기를 확인해 보자"
   ]
  },
  {
   "cell_type": "code",
   "execution_count": 36,
   "id": "58f18700",
   "metadata": {},
   "outputs": [
    {
     "name": "stdout",
     "output_type": "stream",
     "text": [
      "(42, 9)\n"
     ]
    }
   ],
   "source": [
    "poly = PolynomialFeatures(include_bias=False)\n",
    "poly.fit(train_input)\n",
    "train_poly = poly.transform(train_input)\n",
    "print(train_poly.shape)"
   ]
  },
  {
   "cell_type": "markdown",
   "id": "32031012",
   "metadata": {},
   "source": [
    "get_feature_names() 메서드를 호출하면 9개의 특성이 각각 어떤 입력의 조합으로 만들어졌는지 알려준다."
   ]
  },
  {
   "cell_type": "code",
   "execution_count": 38,
   "id": "a049bab6",
   "metadata": {},
   "outputs": [
    {
     "data": {
      "text/plain": [
       "array(['x0', 'x1', 'x2', 'x0^2', 'x0 x1', 'x0 x2', 'x1^2', 'x1 x2',\n",
       "       'x2^2'], dtype=object)"
      ]
     },
     "execution_count": 38,
     "metadata": {},
     "output_type": "execute_result"
    }
   ],
   "source": [
    "poly.get_feature_names_out()"
   ]
  },
  {
   "cell_type": "markdown",
   "id": "7e26b093",
   "metadata": {},
   "source": [
    "x0은 첫번째 특성을 의미하고 x0^2는 첫 번째 특성의 제곱, x0 x1은 첫번째 특성과 두번째 특성의 곱을 나타내는 식이다.\n",
    "\n",
    "이제 테스트 세트를 변환해보자"
   ]
  },
  {
   "cell_type": "code",
   "execution_count": 9,
   "id": "6abaec28",
   "metadata": {},
   "outputs": [],
   "source": [
    "test_poly = poly.transform(test_input)"
   ]
  },
  {
   "cell_type": "markdown",
   "id": "1721391f",
   "metadata": {},
   "source": [
    "## 다중 회귀 모델 훈련하기\n",
    "\n",
    "다중 회귀 모델을 훈련하는 것은 선형 회귀 모델을 훈련하는 것과 같다.\n",
    "\n",
    "다만 여러 개의 특성을 사용하여 선형 회귀를 수행하는 것뿐이다.\n",
    "\n",
    "사이킷런의 LinearRegression 클래스를 임포트하고 앞에서 만든 train_polyf를 사용해 모델을 훈련시켜 보자."
   ]
  },
  {
   "cell_type": "code",
   "execution_count": 10,
   "id": "1c341c7f",
   "metadata": {},
   "outputs": [
    {
     "name": "stdout",
     "output_type": "stream",
     "text": [
      "0.9903183436982124\n"
     ]
    }
   ],
   "source": [
    "from sklearn.linear_model import LinearRegression\n",
    "lr = LinearRegression()\n",
    "lr.fit(train_poly, train_target)\n",
    "print(lr.score(train_poly, train_target))"
   ]
  },
  {
   "cell_type": "markdown",
   "id": "8c545075",
   "metadata": {},
   "source": [
    "특성이 늘어나니 선형 회귀의 능력은 매우 강하다는 것을 알 수 있다.\n",
    "\n",
    "테스트 세트에 대한 점수도 확인해보자"
   ]
  },
  {
   "cell_type": "code",
   "execution_count": 11,
   "id": "c949a224",
   "metadata": {},
   "outputs": [
    {
     "name": "stdout",
     "output_type": "stream",
     "text": [
      "0.9714559911594203\n"
     ]
    }
   ],
   "source": [
    "print(lr.score(test_poly, test_target))"
   ]
  },
  {
   "cell_type": "markdown",
   "id": "a5d749b8",
   "metadata": {},
   "source": [
    "이제 과소적합 문제는 더 이상 나타나지 않는다.\n",
    "\n",
    "그러면 특성을 더 많이 추가하면 어떨까?? \n",
    "\n",
    "**PolynomialFeatures 클래스**의 degree 매개변수를 사용하여 필요한 고차항의 최대 차수를 지정할 수 있다. 5제곱까지 만들어 출력해보자"
   ]
  },
  {
   "cell_type": "code",
   "execution_count": 12,
   "id": "bf879f6b",
   "metadata": {},
   "outputs": [
    {
     "name": "stdout",
     "output_type": "stream",
     "text": [
      "(42, 55)\n"
     ]
    }
   ],
   "source": [
    "poly = PolynomialFeatures(degree=5, include_bias=False)\n",
    "poly.fit(train_input)\n",
    "train_poly = poly.transform(train_input)\n",
    "test_poly = poly.transform(test_input)\n",
    "print(train_poly.shape)"
   ]
  },
  {
   "cell_type": "markdown",
   "id": "0b95f5fa",
   "metadata": {},
   "source": [
    "만들어진 특성이 55개나 된다. 이 데이터를 사용해 선형 회귀 모델을 다시 훈련해보자"
   ]
  },
  {
   "cell_type": "code",
   "execution_count": 13,
   "id": "773b78e7",
   "metadata": {},
   "outputs": [
    {
     "name": "stdout",
     "output_type": "stream",
     "text": [
      "0.999999999997514\n"
     ]
    }
   ],
   "source": [
    "lr.fit(train_poly, train_target)\n",
    "print(lr.score(train_poly, train_target))"
   ]
  },
  {
   "cell_type": "markdown",
   "id": "26922cd9",
   "metadata": {},
   "source": [
    "거의 완벽한 점수가 나온다 테스트 세트에 대한 점수는 어떨까??"
   ]
  },
  {
   "cell_type": "code",
   "execution_count": 14,
   "id": "a7c8acd0",
   "metadata": {},
   "outputs": [
    {
     "name": "stdout",
     "output_type": "stream",
     "text": [
      "-144.4019658563141\n"
     ]
    }
   ],
   "source": [
    "print(lr.score(test_poly, test_target))"
   ]
  },
  {
   "cell_type": "markdown",
   "id": "836eba49",
   "metadata": {},
   "source": [
    "특성의 개수를 크게 늘리면 선형 모델은 아주 강력해지지만 이런 모델은 훈련 세트에 너무 과대적합돼서 테스트 세트에서는 형편없는 점수를 만든다.\n",
    "\n",
    "다시 특성을 줄여야겠다. 과대 적합을 줄이는 또 다른 방법을 배워보자"
   ]
  },
  {
   "cell_type": "markdown",
   "id": "dc488513",
   "metadata": {},
   "source": [
    "## 규제\n",
    "\n",
    "**규제**는 머신러닝 모델이 훈련 세트를 너무 과도하게 학습하지 못하도록 훼방하는 것을 말한다.\n",
    "\n",
    "즉 모델이 훈련 세트에 과대적합되지 않도록 만드는 것\n",
    "\n",
    "특성에 곱해지는 계수의 크기를 작게 만드는 일\n",
    "\n",
    "![사진](./regularization.jpeg)\n",
    "\n",
    "2장에서 보았듯이 특성의 스케일이 정규화되지 않으면 여기에 곱해지는 계수 값도 차이나 나게 된다.\n",
    "\n",
    "규제를 적용하기 전에 먼저 **정규화**를 해보자\n",
    "\n",
    "사이킷런에서 제공하는 **StandardScaler 클래스**를 사용해보자. 이 클래스도 변환기의 하나이다."
   ]
  },
  {
   "cell_type": "code",
   "execution_count": 15,
   "id": "8e55a0e6",
   "metadata": {},
   "outputs": [],
   "source": [
    "from sklearn.preprocessing import StandardScaler\n",
    "ss = StandardScaler()\n",
    "ss.fit(train_poly)\n",
    "train_scaled = ss.transform(train_poly)\n",
    "test_scaled = ss.transform(test_poly)"
   ]
  },
  {
   "cell_type": "markdown",
   "id": "bda6be95",
   "metadata": {},
   "source": [
    "StandardScaler 클래스의 객체 ss를 초기화 한후 PolynomialFeatures 클래스로 만든 train_poly를 사용해 이 객체를 훈련한다.\n",
    "\n",
    "꼭 훈련 세트로 학습한 변환길르 사용해 테스트 세트까지 변환해야 한다.\n",
    "\n",
    "선형 회귀 모델에 규제를 추가한 모델을 **릿지**와**라쏘**라고 한다.\n",
    "\n",
    "**릿지**는 계수를 제곱한 값을 기준으로 규제를 적용함\n",
    "\n",
    "**라쏘**는 계수의 절댓값을 기준으로 규제를 적용함"
   ]
  },
  {
   "cell_type": "markdown",
   "id": "e41fce61",
   "metadata": {},
   "source": [
    "## 릿지 회귀\n",
    "\n",
    "릿지와 라쏘 모두 **sklearn.liner_model 패키지**안에 있다.\n",
    "\n",
    "모델 객체를 만들고 fit() 메서드에서 훈련한 다음 score() 메서드로 평가한다."
   ]
  },
  {
   "cell_type": "code",
   "execution_count": 16,
   "id": "11cb79eb",
   "metadata": {},
   "outputs": [
    {
     "name": "stdout",
     "output_type": "stream",
     "text": [
      "0.9896101671037343\n"
     ]
    }
   ],
   "source": [
    "from sklearn.linear_model import Ridge\n",
    "ridge = Ridge()\n",
    "ridge.fit(train_scaled, train_target)\n",
    "print(ridge.score(train_scaled, train_target))"
   ]
  },
  {
   "cell_type": "markdown",
   "id": "9e1337ed",
   "metadata": {},
   "source": [
    "선형 회귀에서는 거의 완벽에 가까웠던 점수가 조금 낮아졌다. \n",
    "\n",
    "이번에는 테스트 세트에 대한 점수를 확인해보자."
   ]
  },
  {
   "cell_type": "code",
   "execution_count": 17,
   "id": "029c34de",
   "metadata": {},
   "outputs": [
    {
     "name": "stdout",
     "output_type": "stream",
     "text": [
      "0.9790693977615383\n"
     ]
    }
   ],
   "source": [
    "print(ridge.score(test_scaled, test_target))"
   ]
  },
  {
   "cell_type": "markdown",
   "id": "f7f5d411",
   "metadata": {},
   "source": [
    "테스트 세트 점수가 정상으로 돌아왔다. 많은 특성을 사용해도 과대적합되지 않아 테스트 세트에도 좋은 성능을 내고 있다.\n",
    "\n",
    "릿지와 라쏘 모델을 사용할 때 규제의 양을 임의로 조절할 수 있다.\n",
    "\n",
    "alpha 매개변수로 **규제의 강도를 조절**한다.\n",
    "\n",
    "alpha 값이 크면 더 과소적합되도록 유도한다. alpha 값이 작으면 과대 적합될 가능성이 크다.\n",
    "\n",
    ">사람이 알려줘야 하는 파라미터를 **하이퍼파라미터**라고 한다.\n",
    "\n",
    "적잘한 alpha 값을 찾는 방법은 $R^2$값의 그래프를 그려보는 것이다.\n",
    "\n",
    "훈련 세트와 테스트 세트의 점수가 가장 가까운 지점이 최적의 alpha값이 된다.\n",
    "\n",
    "맷플록립을 임포트하고 alpha 값을 바굴 때마다 score() 메서드의 결과를 저장할 리스트를 만들어 확인해보자"
   ]
  },
  {
   "cell_type": "code",
   "execution_count": 18,
   "id": "e46acf86",
   "metadata": {},
   "outputs": [],
   "source": [
    "import matplotlib.pyplot as plt\n",
    "train_score = []\n",
    "test_score = []"
   ]
  },
  {
   "cell_type": "markdown",
   "id": "8b558666",
   "metadata": {},
   "source": [
    "다음 코드는 alpha 값을 0.001에서 100까지 10배씩 늘려가며 릿지 회귀 모델을 훈련한 다음 훈련 세트와 테스트 세트의 점수를 파이썬 리스트에 저장한다."
   ]
  },
  {
   "cell_type": "code",
   "execution_count": 19,
   "id": "764a107f",
   "metadata": {},
   "outputs": [],
   "source": [
    "alpha_list = [0.001, 0.01, 0.1, 1, 10, 100]\n",
    "for alpha in alpha_list :\n",
    "    # 릿지 모델을 만든다.\n",
    "    ridge = Ridge(alpha=alpha)\n",
    "    # 릿지 모델을 훈련한다.\n",
    "    ridge.fit(train_scaled, train_target)\n",
    "    # 훈련 점수와 테스트 점수를 저장한다.\n",
    "    train_score.append(ridge.score(train_scaled, train_target))\n",
    "    test_score.append(ridge.score(test_scaled, test_target))"
   ]
  },
  {
   "cell_type": "markdown",
   "id": "365bb3c5",
   "metadata": {},
   "source": [
    "이대로 그래프를 그리면 그래프 왼쪽이 너무 촘촘해진다.\n",
    "\n",
    "그래서 로그 함수로 바꾸어 지수로 표현해보자 0.001은 -3, 0.01은 -2가 되는 식이다."
   ]
  },
  {
   "cell_type": "code",
   "execution_count": 20,
   "id": "fd8e28d4",
   "metadata": {},
   "outputs": [
    {
     "data": {
      "image/png": "[encoded data removed]",
      "text/plain": [
       "<Figure size 432x288 with 1 Axes>"
      ]
     },
     "metadata": {
      "needs_background": "light"
     },
     "output_type": "display_data"
    }
   ],
   "source": [
    "plt.plot(np.log10(alpha_list), train_score)\n",
    "plt.plot(np.log10(alpha_list), test_score)\n",
    "plt.xlabel('alpha')\n",
    "plt.ylabel('R^2')\n",
    "plt.show()"
   ]
  },
  {
   "cell_type": "markdown",
   "id": "696ac8f6",
   "metadata": {},
   "source": [
    "그래프의 왼쪽은 훈련 세트와 테스트 세트의 점수 차이가 아주크다. 훈련 세트에는 잘 맞고 테스트 세트에는 형편없는 **과대적합**의 전형적인 모습이다.\n",
    "\n",
    "반대로 오른쪽 편은 훈련 세트와 테스트 세트의 점수가 모두 낮아지는 **과소적합**으로 가는 모습을 보인다.\n",
    "\n",
    "적절한 alpha의 값은 두 그래프가 가장 가깝고 테스트 세트의 점수가 가장 높은 **-1**, 즉 **0.1**이다.\n",
    "\n",
    "alpha 값을 0.1로 하여 최종 모델을 훈련해보자."
   ]
  },
  {
   "cell_type": "code",
   "execution_count": 21,
   "id": "f1e14103",
   "metadata": {},
   "outputs": [
    {
     "name": "stdout",
     "output_type": "stream",
     "text": [
      "0.9903815817570369\n",
      "0.9827976465387017\n"
     ]
    }
   ],
   "source": [
    "ridge = Ridge(alpha=0.1)\n",
    "ridge.fit(train_scaled, train_target)\n",
    "print(ridge.score(train_scaled, train_target))\n",
    "print(ridge.score(test_scaled, test_target))"
   ]
  },
  {
   "cell_type": "markdown",
   "id": "24e2b912",
   "metadata": {},
   "source": [
    "이 모델은 훈련 세트와 테스트 세트의 점수가 비슷하게 모두 높고 과대적합과 과소적합 사이에 균형을 맞추고 있다.\n",
    "\n",
    "## 라쏘 회귀\n",
    "\n",
    "라쏘 모델을 훈련하는 것은 릿지와 매우 비슷하다. Ridge 클래스를 Lasso 클래스로 바꾸는 것이 전부이다."
   ]
  },
  {
   "cell_type": "code",
   "execution_count": 22,
   "id": "d76c453b",
   "metadata": {},
   "outputs": [
    {
     "name": "stdout",
     "output_type": "stream",
     "text": [
      "0.989789897208096\n"
     ]
    }
   ],
   "source": [
    "from sklearn.linear_model import Lasso\n",
    "lasso = Lasso()\n",
    "lasso.fit(train_scaled, train_target)\n",
    "print(lasso.score(train_scaled, train_target))"
   ]
  },
  {
   "cell_type": "markdown",
   "id": "b2af69b9",
   "metadata": {},
   "source": [
    "라쏘도 과대적합을 잘 억제한 결과를 보여준다. 테스트 세트의 점수도 확인해보면"
   ]
  },
  {
   "cell_type": "code",
   "execution_count": 23,
   "id": "5b37b0e4",
   "metadata": {},
   "outputs": [
    {
     "name": "stdout",
     "output_type": "stream",
     "text": [
      "0.9800593698421886\n"
     ]
    }
   ],
   "source": [
    "print(lasso.score(test_scaled, test_target))"
   ]
  },
  {
   "cell_type": "markdown",
   "id": "1e331d4e",
   "metadata": {},
   "source": [
    "테스트 세트의 점수도 릿지 만큼 아주 좋다.\n",
    "\n",
    "라쏘 모델도 alpha 매개변수로 규제의 강도를 조절 할 수가 있다.\n",
    "\n",
    "앞에서와 같이 alpha 값을 바꾸어 가며 훈련 세트와 테스트 세트에 대한 점수를 계산해 보자"
   ]
  },
  {
   "cell_type": "code",
   "execution_count": 24,
   "id": "cb35a0c4",
   "metadata": {},
   "outputs": [
    {
     "name": "stderr",
     "output_type": "stream",
     "text": [
      "/home/innoacad06/anaconda3/envs/soum/lib/python3.9/site-packages/sklearn/linear_model/_coordinate_descent.py:647: ConvergenceWarning: Objective did not converge. You might want to increase the number of iterations, check the scale of the features or consider increasing regularisation. Duality gap: 1.878e+04, tolerance: 5.183e+02\n",
      "  model = cd_fast.enet_coordinate_descent(\n",
      "/home/innoacad06/anaconda3/envs/soum/lib/python3.9/site-packages/sklearn/linear_model/_coordinate_descent.py:647: ConvergenceWarning: Objective did not converge. You might want to increase the number of iterations, check the scale of the features or consider increasing regularisation. Duality gap: 1.297e+04, tolerance: 5.183e+02\n",
      "  model = cd_fast.enet_coordinate_descent(\n"
     ]
    }
   ],
   "source": [
    "train_score = []\n",
    "test_score = []\n",
    "\n",
    "alpha_list = [0.001, 0.01, 0.1, 1, 10, 100]\n",
    "for alpha in alpha_list:\n",
    "    # 라쏘 모델을 만듭니다\n",
    "    lasso = Lasso(alpha=alpha, max_iter=10000)\n",
    "    # 라쏘 모델을 훈련합니다\n",
    "    lasso.fit(train_scaled, train_target)\n",
    "    # 훈련 점수와 테스트 점수를 저장합니다\n",
    "    train_score.append(lasso.score(train_scaled, train_target))\n",
    "    test_score.append(lasso.score(test_scaled, test_target))"
   ]
  },
  {
   "cell_type": "code",
   "execution_count": 25,
   "id": "7d087f0a",
   "metadata": {},
   "outputs": [
    {
     "data": {
      "image/png": "[encoded data removed]",
      "text/plain": [
       "<Figure size 432x288 with 1 Axes>"
      ]
     },
     "metadata": {
      "needs_background": "light"
     },
     "output_type": "display_data"
    }
   ],
   "source": [
    "plt.plot(np.log10(alpha_list), train_score)\n",
    "plt.plot(np.log10(alpha_list), test_score)\n",
    "plt.xlabel('alpha')\n",
    "plt.ylabel('R^2')\n",
    "plt.show()"
   ]
  },
  {
   "cell_type": "markdown",
   "id": "f4d31c0b",
   "metadata": {},
   "source": [
    "이 그래프도 왼쪽은 과대적합을 보여주고 있고 오른쪽으로 갈수록 훈련 세트와 테스트 세트의 점수가 좁혀지고 있다.\n",
    "\n",
    "가장 오른쪽은 아주 크게 점수가 떨어진다. 이 지점은 **과소적합**되는 모델일 것이다.\n",
    "\n",
    "라쏘모델에서 최적의 alpha값은 **1** 즉 **10**이다. 이 값으로 다시 모델을 훈련해보자"
   ]
  },
  {
   "cell_type": "code",
   "execution_count": 26,
   "id": "fed13859",
   "metadata": {},
   "outputs": [
    {
     "name": "stdout",
     "output_type": "stream",
     "text": [
      "0.9888067471131867\n",
      "0.9824470598706695\n"
     ]
    }
   ],
   "source": [
    "lasso = Lasso(alpha=10)\n",
    "lasso.fit(train_scaled, train_target)\n",
    "print(lasso.score(train_scaled, train_target))\n",
    "print(lasso.score(test_scaled, test_target))"
   ]
  },
  {
   "cell_type": "markdown",
   "id": "9452185b",
   "metadata": {},
   "source": [
    "모델이 잘 훈련되어 보인다. 특성을 많이 사용했지만 릿지와 마찬가지로 라쏘 모델이 과대적합을 잘 억제하고 테스트 세트의 성능을 크게 높었다.\n",
    "\n",
    "라쏘 모델은 계수 값을 아예 0으로 만들 수도 있다.\n",
    "\n",
    "라쏘 모델의 계수는 coef_ 속성에 저장되어 있는데 이중에 0인 것은 헤아려 보자"
   ]
  },
  {
   "cell_type": "code",
   "execution_count": 27,
   "id": "87b7144b",
   "metadata": {},
   "outputs": [
    {
     "name": "stdout",
     "output_type": "stream",
     "text": [
      "40\n"
     ]
    }
   ],
   "source": [
    "print(np.sum(lasso.coef_==0))"
   ]
  },
  {
   "cell_type": "markdown",
   "id": "d8795bad",
   "metadata": {},
   "source": [
    "55개의 특성을 사용했지만 40개는 0인것을 확인 할 수 있따. 라쏘 모델이 사용한 특성은 15개 밖에 되지 않는다.\n",
    "\n",
    "이런 특징 때문에 라쏘 모델을 유용한 특성을 골라내는 용도로도 사용할 수 있다."
   ]
  },
  {
   "cell_type": "markdown",
   "id": "42c403d9",
   "metadata": {},
   "source": [
    "## 모델의 과대적합을 제어하기 <문제해결 과정>\n",
    "\n",
    "훈련 세트에 과소적합되는 문제가 발생하여 높이와 두께도 사용하여 다중 회귀 모델을 훈련시켰다.\n",
    "\n",
    "특성을 많이 추가하여 훈련 세트에서 거의 완벽에 가까운 점수를 얻는 모델을 훈련했지만 특성이 너무 많으면 성형 회귀 모델을 제약하기 위한 도구도 필요하다.\n",
    "\n",
    "그래서 **릿지 회귀**와 **라쏘 회귀**에 대해 알아보았다.\n",
    "\n",
    "또 릿지와 라쏘 모델의 규제 양을 조절하기 위한 최적의 alpha값을 찾는 방법도 알아보았다."
   ]
  }
 ],
 "metadata": {
  "kernelspec": {
   "display_name": "Python 3 (ipykernel)",
   "language": "python",
   "name": "python3"
  },
  "language_info": {
   "codemirror_mode": {
    "name": "ipython",
    "version": 3
   },
   "file_extension": ".py",
   "mimetype": "text/x-python",
   "name": "python",
   "nbconvert_exporter": "python",
   "pygments_lexer": "ipython3",
   "version": "3.9.7"
  }
 },
 "nbformat": 4,
 "nbformat_minor": 5
}
